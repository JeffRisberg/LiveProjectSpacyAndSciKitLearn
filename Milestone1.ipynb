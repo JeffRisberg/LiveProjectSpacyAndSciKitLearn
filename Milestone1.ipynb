{
 "cells": [
  {
   "cell_type": "code",
   "execution_count": 1,
   "metadata": {},
   "outputs": [],
   "source": [
    "#import dependancies\n",
    "import spacy\n"
   ]
  },
  {
   "cell_type": "code",
   "execution_count": 2,
   "metadata": {},
   "outputs": [],
   "source": [
    "nlp = spacy.load(\"en_core_web_sm\") "
   ]
  },
  {
   "cell_type": "code",
   "execution_count": 3,
   "metadata": {},
   "outputs": [
    {
     "name": "stdout",
     "output_type": "stream",
     "text": [
      "Friday\tFriday\tpobj\tOn\n",
      "board members\tmembers\tnsubj\tmeet\n",
      "senior managers\tmanagers\tpobj\twith\n",
      "future development\tdevelopment\tdobj\tdiscuss\n",
      "the company\tcompany\tpobj\tof\n"
     ]
    }
   ],
   "source": [
    "doc = nlp(\"On Friday, board members meet with senior managers \" +     \n",
    "      \"to discuss future development of the company.\")   \n",
    "for chunk in doc.noun_chunks:     \n",
    "  print('\\t'.join([chunk.text, chunk.root.text, chunk.root.dep_, chunk.root.head.text]))"
   ]
  },
  {
   "cell_type": "code",
   "execution_count": 4,
   "metadata": {},
   "outputs": [
    {
     "name": "stdout",
     "output_type": "stream",
     "text": [
      "On 443 meet 100 [Friday]\n",
      "Friday 439 On 85 []\n",
      ", 445 meet 100 []\n",
      "board 7037928807040764755 members 92 []\n",
      "members 429 meet 100 [board]\n",
      "meet 8206900633647566924 meet 100 [On, ,, members, with, discuss, .]\n",
      "with 443 meet 100 [managers]\n",
      "senior 402 managers 92 []\n",
      "managers 439 with 85 [senior]\n",
      "to 405 discuss 100 []\n",
      "discuss 399 meet 100 [to, development]\n",
      "future 402 development 92 []\n",
      "development 416 discuss 100 [future, of]\n",
      "of 443 development 92 [company]\n",
      "the 415 company 92 []\n",
      "company 439 of 85 [the]\n",
      ". 445 meet 100 []\n"
     ]
    }
   ],
   "source": [
    "for token in doc: \n",
    "    print(token.text, token.dep, token.head.text, token.head.pos,\n",
    "      [child for child in token.children])\n"
   ]
  },
  {
   "cell_type": "code",
   "execution_count": 9,
   "metadata": {},
   "outputs": [
    {
     "name": "stdout",
     "output_type": "stream",
     "text": [
      "On\tVERB\n",
      "Friday\tADP\n",
      ",\tVERB\n",
      "board\tNOUN\n",
      "members\tVERB\n",
      "meet\tVERB\n",
      "with\tVERB\n",
      "senior\tNOUN\n",
      "managers\tADP\n",
      "to\tVERB\n",
      "discuss\tVERB\n",
      "future\tNOUN\n",
      "development\tVERB\n",
      "of\tNOUN\n",
      "the\tNOUN\n",
      "company\tADP\n",
      ".\tVERB\n"
     ]
    }
   ],
   "source": [
    "for token in doc: \n",
    "    print('\\t'.join([token.text, token.head.pos_]))"
   ]
  },
  {
   "cell_type": "code",
   "execution_count": null,
   "metadata": {},
   "outputs": [],
   "source": []
  }
 ],
 "metadata": {
  "kernelspec": {
   "display_name": "Python 3",
   "language": "python",
   "name": "python3"
  },
  "language_info": {
   "codemirror_mode": {
    "name": "ipython",
    "version": 3
   },
   "file_extension": ".py",
   "mimetype": "text/x-python",
   "name": "python",
   "nbconvert_exporter": "python",
   "pygments_lexer": "ipython3",
   "version": "3.8.12"
  }
 },
 "nbformat": 4,
 "nbformat_minor": 4
}
