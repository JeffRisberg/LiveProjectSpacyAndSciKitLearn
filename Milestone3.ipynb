{
 "cells": [
  {
   "cell_type": "code",
   "execution_count": 42,
   "metadata": {},
   "outputs": [],
   "source": [
    "# import dependencies\n",
    "import json\n",
    "from collections import defaultdict\n",
    "\n",
    "import spacy"
   ]
  },
  {
   "cell_type": "code",
   "execution_count": 43,
   "metadata": {},
   "outputs": [],
   "source": [
    "# Load Spacy Language model\n",
    "sp = spacy.load(\"en_core_web_sm\")"
   ]
  },
  {
   "cell_type": "code",
   "execution_count": 44,
   "metadata": {
    "scrolled": true
   },
   "outputs": [
    {
     "data": {
      "text/plain": [
       "(26, 1494)"
      ]
     },
     "execution_count": 44,
     "metadata": {},
     "output_type": "execute_result"
    }
   ],
   "source": [
    "# load data\n",
    "with open('data/summaries.json', 'r') as outfile:\n",
    "    summaries = json.load(outfile)\n",
    "\n",
    "with open('data/vocab.json', 'r') as outfile:\n",
    "    vocab = json.load(outfile)\n",
    "    \n",
    "len(summaries), len(vocab)"
   ]
  },
  {
   "cell_type": "markdown",
   "metadata": {},
   "source": [
    "### Build an inverted Index"
   ]
  },
  {
   "cell_type": "code",
   "execution_count": 45,
   "metadata": {},
   "outputs": [],
   "source": [
    "inverted_index = {}\n",
    "\n",
    "for i, word in enumerate(vocab):\n",
    "    inverted_index[word] = []\n",
    "    \n",
    "    for doc in summaries:\n",
    "        # for each word in corpus vocabulary list all articles\n",
    "        # it occurs in and this word's TfIdf score for this article\n",
    "        if doc['tf_idf'][i]!=0:\n",
    "            inverted_index[word].append((doc['title'], doc['tf_idf'][i])) "
   ]
  },
  {
   "cell_type": "code",
   "execution_count": 46,
   "metadata": {},
   "outputs": [
    {
     "data": {
      "text/plain": [
       "[('COVID-19 pandemic', 0.05749582125920263)]"
      ]
     },
     "execution_count": 46,
     "metadata": {},
     "output_type": "execute_result"
    }
   ],
   "source": [
    "# Now you have a lookup table of all articles that have a particular keyword\n",
    "# lets request a list of articles with the word \"coronavirus\" in them\n",
    "inverted_index[\"coronavirus\"]"
   ]
  },
  {
   "cell_type": "code",
   "execution_count": 47,
   "metadata": {},
   "outputs": [
    {
     "name": "stdout",
     "output_type": "stream",
     "text": [
      "The COVID-19 pandemic, also known as the coronavirus pandemic, is an ongoing pandemic of coronavirus disease 2019 (COVID-19) caused by severe acute respiratory syndrome coronavirus 2 (SARS-CoV-2). The disease was first identified in December 2019 in Wuhan, China. The outbreak was declared a Public Health Emergency of International Concern in January 2020, and a pandemic in March 2020. As of 17 October 2020, more than 39.5 million cases have been confirmed, with more than 1.1 million deaths attributed to COVID-19.\n",
      "\n",
      "Common symptoms include fever, cough, fatigue, breathing difficulties, and loss of smell. Complications may include pneumonia and acute respiratory distress syndrome. The incubation period is typically around five days but may range from one to 14 days. There are several vaccine candidates in development, although none have proven their safety and efficacy. There is no known specific antiviral medication, so primary treatment is currently symptomatic.\n",
      "Recommended preventive measures include hand washing, covering mouth or wearing face mask when sneezing or coughing, social distancing, disinfecting surfaces, ventilation and air-filtering, and monitoring and self-isolation if exposed or symptomatic. Travel restrictions, lockdowns, workplace hazard controls, and facility closures have been implemented. Many places have also worked to increase testing capacity and trace contacts of the infected. These have caused social and economic disruption, including the largest global recession since the Great Depression. Extreme poverty and global famines are affecting hundreds of millions, inflamed by supply shortages. Many events, the environment and education systems have also been affected. Misinformation about the virus has circulated globally. There have been many incidents of xenophobia and racism against Chinese people and against those perceived as being Chinese or as being from areas with high infection rates.\n"
     ]
    }
   ],
   "source": [
    "# Check if \"coronavirus\" is indeed in the article (try other keywords as well)\n",
    "for s in summaries:\n",
    "    if s[\"title\"] == 'COVID-19 pandemic':\n",
    "        print(s[\"text\"])"
   ]
  },
  {
   "cell_type": "code",
   "execution_count": 48,
   "metadata": {},
   "outputs": [
    {
     "data": {
      "text/plain": [
       "[('Pandemic', 0.022322198426744867),\n",
       " ('Epidemiology of HIV/AIDS', 0.0016857910270197945),\n",
       " ('Antonine Plague', 0.007469351012026167),\n",
       " ('Basic reproduction number', 0.0056020132590196255),\n",
       " ('Cholera', 0.008194224738931659),\n",
       " ('COVID-19 pandemic', 0.005711856656255304),\n",
       " ('Disease X', 0.029604135108640295),\n",
       " ('HIV/AIDS', 0.013486328216158356),\n",
       " ('HIV/AIDS in Yunnan', 0.008593058686401785),\n",
       " ('Pandemic prevention', 0.013871651879477165),\n",
       " ('Pandemic Severity Assessment Framework', 0.004537456222258886),\n",
       " ('1929–1930 psittacosis pandemic', 0.004646007806523453),\n",
       " ('Science diplomacy and pandemics', 0.01032995352727023),\n",
       " ('Superspreader', 0.0066507919970096),\n",
       " ('Targeted immunization strategies', 0.0105545177343848),\n",
       " ('Virus', 0.0015866268489598066)]"
      ]
     },
     "execution_count": 48,
     "metadata": {},
     "output_type": "execute_result"
    }
   ],
   "source": [
    "    \n",
    "# Now you have a lookup table of all articles that have a particular keyword\n",
    "# lets request a list of articles with the word \"coronavirus\" in them\n",
    "inverted_index[\"disease\"]"
   ]
  },
  {
   "cell_type": "markdown",
   "metadata": {},
   "source": [
    "### Search inverted index"
   ]
  },
  {
   "cell_type": "code",
   "execution_count": 49,
   "metadata": {},
   "outputs": [],
   "source": [
    "# Reuse the tokenizer from Milestone 1 to tokenize search queries\n",
    "\n",
    "def tokenizer(document):\n",
    "    text_lowercased = sp(document.lower())\n",
    "    tokens_without_stopwords = [word for word \n",
    "                     in text_lowercased \n",
    "                     if not word.is_stop \n",
    "                     and not word.is_punct\n",
    "                     and len(word.dep_.strip())!=0]   \n",
    "    \n",
    "    token_lemmatized = [token.lemma_ \n",
    "               for token\n",
    "               in tokens_without_stopwords]\n",
    "    \n",
    "    return token_lemmatized"
   ]
  },
  {
   "cell_type": "code",
   "execution_count": 50,
   "metadata": {},
   "outputs": [],
   "source": [
    "# Create a search function to search the inverted index\n",
    "\n",
    "def search(query, index = inverted_index):\n",
    "    \n",
    "    query_tokens = tokenizer(query)\n",
    "    \n",
    "    # Lookup all query tokens in the inverted index\n",
    "    # and build an list of articles that have them\n",
    "    # The results should be a list of tuples with article titles and TfIdf scores\n",
    "    newlist = []\n",
    "    for token in query_tokens:\n",
    "        newlist.extend(inverted_index[token])\n",
    "    \n",
    "    # create a dictionary with compound TfIdf scores \n",
    "    # to take into account that an article can include multiple keywords\n",
    "    # from your query\n",
    "    \n",
    "    output = defaultdict(int) \n",
    "    \n",
    "    for k, v in newlist: \n",
    "        output[k] += v \n",
    "    results = [(x, y) for x, y in output.items()]\n",
    "    \n",
    "    # sort search results by their TfIdf scores\n",
    "    return sorted(results, key = lambda x: x[1], reverse=True) "
   ]
  },
  {
   "cell_type": "code",
   "execution_count": 51,
   "metadata": {},
   "outputs": [
    {
     "name": "stdout",
     "output_type": "stream",
     "text": [
      "The Johns Hopkins Center for Health Security (abbreviated CHS; previously the UPMC Center for Health Security, the Center for Biosecurity of UPMC, and the Johns Hopkins Center for Civilian Biodefense Strategies) is an independent, nonprofit organization of the Johns Hopkins Bloomberg School of Public Health, and part of the Environmental Health and Engineering department. It is concerned with the areas of health consequences from epidemics and disasters as well as averting biological weapons development, and implications of biosecurity for the bioeconomy. It is a think tank that does policy research and gives policy recommendations to the United States government as well as the World Health Organization and the UN Biological Weapons Convention.\n"
     ]
    }
   ],
   "source": [
    "# Time to check how well this search performs for multi-word queries:\n",
    "title, score = search(query = \"world health organization\")[0]\n",
    "for s in summaries:\n",
    "    if s[\"title\"] == title:\n",
    "        print(s[\"text\"])"
   ]
  },
  {
   "cell_type": "code",
   "execution_count": 52,
   "metadata": {},
   "outputs": [
    {
     "data": {
      "text/plain": [
       "[('Virus', 0.06746676589985189),\n",
       " ('Plague of Cyprian', 0.0634287152349009),\n",
       " ('Crimson Contagion', 0.0339553131009123),\n",
       " ('Viral load', 0.03386619154421699),\n",
       " ('Disease X', 0.031470777995967494),\n",
       " ('Swine influenza', 0.028050041257275376),\n",
       " ('Science diplomacy and pandemics', 0.027286695292144007),\n",
       " ('HIV/AIDS in Yunnan', 0.022837201731587032),\n",
       " ('HIV/AIDS', 0.013653988336874786),\n",
       " ('Spanish flu', 0.012903018978346673),\n",
       " ('Epidemiology of HIV/AIDS', 0.005973619897382719),\n",
       " ('COVID-19 pandemic', 0.005060007442488892)]"
      ]
     },
     "execution_count": 52,
     "metadata": {},
     "output_type": "execute_result"
    }
   ],
   "source": [
    "# Lets try another multi-word query\n",
    "search(query = \"Ebola virus\")"
   ]
  },
  {
   "cell_type": "code",
   "execution_count": 53,
   "metadata": {},
   "outputs": [
    {
     "name": "stdout",
     "output_type": "stream",
     "text": [
      "A virus is a submicroscopic infectious agent that replicates only inside the living cells of an organism. Viruses infect all types of life forms, from animals and plants to microorganisms, including bacteria and archaea.\n",
      "Since Dmitri Ivanovsky's 1892 article describing a non-bacterial pathogen infecting tobacco plants and the discovery of the tobacco mosaic virus by Martinus Beijerinck in 1898, more than 6,000  virus species have been described in detail of the millions of types of viruses in the environment. Viruses are found in almost every ecosystem on Earth and are the most numerous type of biological entity. The study of viruses is known as virology, a subspeciality of microbiology.\n",
      "When infected, a host cell is forced to rapidly produce thousands of identical copies of the original virus. When not inside an infected cell or in the process of infecting a cell, viruses exist in the form of independent particles, or virions, consisting of: (i) the genetic material, i.e., long molecules of DNA or RNA that encode the structure of the proteins by which the virus acts; (ii) a protein coat, the capsid, which surrounds and protects the genetic material; and in some cases (iii) an outside envelope of lipids. The shapes of these virus particles range from simple helical and icosahedral forms to more complex structures. Most virus species have virions too small to be seen with an optical microscope, as they are one-hundredth the size of most bacteria.\n",
      "The origins of viruses in the evolutionary history of life are unclear: some may have evolved from plasmids—pieces of DNA that can move between cells—while others may have evolved from bacteria. In evolution, viruses are an important means of horizontal gene transfer, which increases genetic diversity in a way analogous to sexual reproduction. Viruses are considered by some biologists to be a life form, because they carry genetic material, reproduce, and evolve through natural selection, although they lack the key characteristics, such as cell structure, that are generally considered necessary criteria for life. Because they possess some but not all such qualities, viruses have been described as \"organisms at the edge of life\", and as self-replicators.Viruses spread in many ways. One transmission pathway is through disease-bearing organisms known as vectors: for example, viruses are often transmitted from plant to plant by insects that feed on plant sap, such as aphids; and viruses in animals can be carried by blood-sucking insects. Influenza viruses are spread by coughing and sneezing. Norovirus and rotavirus, common causes of viral gastroenteritis, are transmitted by the faecal–oral route, passed by hand-to-mouth contact or in food or water. The infectious dose of norovirus required to produce infection in humans is less than 100 particles. HIV is one of several viruses transmitted through sexual contact and by exposure to infected blood. The variety of host cells that a virus can infect is called its \"host range\". This can be narrow, meaning a virus is capable of infecting few species, or broad, meaning it is capable of infecting many.Viral infections in animals provoke an immune response that usually eliminates the infecting virus. Immune responses can also be produced by vaccines, which confer an artificially acquired immunity to the specific viral infection. Some viruses, including those that cause AIDS, HPV infection, and viral hepatitis, evade these immune responses and result in chronic infections. Several antiviral drugs have been developed.\n"
     ]
    }
   ],
   "source": [
    "for s in summaries:\n",
    "    if s[\"title\"] == 'Virus':\n",
    "        print(s[\"text\"])"
   ]
  },
  {
   "cell_type": "code",
   "execution_count": 54,
   "metadata": {},
   "outputs": [
    {
     "data": {
      "text/plain": [
       "[('Pandemic prevention', 0.061699549981524916),\n",
       " ('Science diplomacy and pandemics', 0.036932666365101494),\n",
       " ('Targeted immunization strategies', 0.02852579106448193),\n",
       " ('Disease X', 0.016002273036172788),\n",
       " ('Spanish flu', 0.01079742124676686),\n",
       " ('COVID-19 pandemic', 0.007718743464506874),\n",
       " ('Cholera', 0.005536651430236998),\n",
       " ('HIV/AIDS', 0.005207088845103844),\n",
       " ('Virus', 0.0042881908136149305)]"
      ]
     },
     "execution_count": 54,
     "metadata": {},
     "output_type": "execute_result"
    }
   ],
   "source": [
    "# Lets try another multi-word query\n",
    "search(query = \"vaccine effect\")"
   ]
  },
  {
   "cell_type": "code",
   "execution_count": 55,
   "metadata": {},
   "outputs": [
    {
     "data": {
      "text/plain": [
       "[('Pandemic prevention', 0.061699549981524916),\n",
       " ('Science diplomacy and pandemics', 0.036932666365101494),\n",
       " ('Targeted immunization strategies', 0.02852579106448193),\n",
       " ('Disease X', 0.016002273036172788),\n",
       " ('Spanish flu', 0.01079742124676686),\n",
       " ('COVID-19 pandemic', 0.007718743464506874),\n",
       " ('Cholera', 0.005536651430236998),\n",
       " ('HIV/AIDS', 0.005207088845103844),\n",
       " ('Virus', 0.0042881908136149305)]"
      ]
     },
     "execution_count": 55,
     "metadata": {},
     "output_type": "execute_result"
    }
   ],
   "source": [
    "# show that this is order-insensitive\n",
    "search(query = \"effect vaccine\")"
   ]
  }
 ],
 "metadata": {
  "kernelspec": {
   "display_name": "Python 3",
   "language": "python",
   "name": "python3"
  },
  "language_info": {
   "codemirror_mode": {
    "name": "ipython",
    "version": 3
   },
   "file_extension": ".py",
   "mimetype": "text/x-python",
   "name": "python",
   "nbconvert_exporter": "python",
   "pygments_lexer": "ipython3",
   "version": "3.8.12"
  }
 },
 "nbformat": 4,
 "nbformat_minor": 4
}
